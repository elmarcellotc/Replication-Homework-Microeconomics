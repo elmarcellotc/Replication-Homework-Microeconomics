{
 "cells": [
  {
   "cell_type": "markdown",
   "metadata": {},
   "source": [
    "Marcello Coletti 00213379 <br></br>\n",
    "University San Francisco of Quito <br></br>\n",
    "<br></br>\n",
    "<br></br>\n",
    "##<center></center>"
   ]
  }
 ],
 "metadata": {
  "kernelspec": {
   "display_name": "Julia 1.8.1",
   "language": "julia",
   "name": "julia-1.8"
  },
  "language_info": {
   "name": "julia"
  },
  "orig_nbformat": 4
 },
 "nbformat": 4,
 "nbformat_minor": 2
}
